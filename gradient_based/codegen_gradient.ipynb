{
 "cells": [
  {
   "cell_type": "code",
   "execution_count": null,
   "metadata": {},
   "outputs": [],
   "source": [
    "import transformers\n",
    "import ecco\n",
    "import torch\n",
    "from pandas.core.computation.check import NUMEXPR_INSTALLED\n",
    "import torch\n",
    "import os\n",
    "import pickle\n",
    "from gradient_wrapper import *\n",
    "\n",
    "# Models from \"codegen\", \"gptj\", \"codeparrot\", \"incoder\", \"polycoder\"\n",
    "model = \n",
    "# Your GPU\n",
    "device = \n",
    "\n",
    "test = gradient_based_method(model, device)\n",
    "dataset = pickle.load(open(\"dataset.pkl\", \"rb\"))\n",
    "test.perfrom_gradient_based(dataset)"
   ]
  }
 ],
 "metadata": {
  "kernelspec": {
   "display_name": "fse2024",
   "language": "python",
   "name": "python3"
  },
  "language_info": {
   "codemirror_mode": {
    "name": "ipython",
    "version": 3
   },
   "file_extension": ".py",
   "mimetype": "text/x-python",
   "name": "python",
   "nbconvert_exporter": "python",
   "pygments_lexer": "ipython3",
   "version": "3.8.19"
  }
 },
 "nbformat": 4,
 "nbformat_minor": 2
}
