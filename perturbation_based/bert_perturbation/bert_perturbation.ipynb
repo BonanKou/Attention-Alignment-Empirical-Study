{
 "cells": [
  {
   "cell_type": "code",
   "execution_count": null,
   "metadata": {},
   "outputs": [],
   "source": [
    "from utils import *\n",
    "from bert_perturbation import *"
   ]
  },
  {
   "cell_type": "code",
   "execution_count": 3,
   "metadata": {},
   "outputs": [],
   "source": [
    "perturbed_prompts = pickle.load(open(\"perturbed_prompts.pkl\", \"rb\"))\n",
    "dataset = [i for i in perturbed_prompts]"
   ]
  },
  {
   "cell_type": "code",
   "execution_count": null,
   "metadata": {},
   "outputs": [],
   "source": [
    "# Models from \"codegen\", \"gptj\", \"codeparrot\", \"incoder\", \"polycoder\"\n",
    "model = \n",
    "# Your GPU\n",
    "device = \n",
    "\n",
    "codegen = bert_perturbation(model, device)\n",
    "codegen.perform_bert_perturbation(dataset)"
   ]
  }
 ],
 "metadata": {
  "kernelspec": {
   "display_name": "fse2024",
   "language": "python",
   "name": "python3"
  },
  "language_info": {
   "codemirror_mode": {
    "name": "ipython",
    "version": 3
   },
   "file_extension": ".py",
   "mimetype": "text/x-python",
   "name": "python",
   "nbconvert_exporter": "python",
   "pygments_lexer": "ipython3",
   "version": "3.8.19"
  }
 },
 "nbformat": 4,
 "nbformat_minor": 2
}
