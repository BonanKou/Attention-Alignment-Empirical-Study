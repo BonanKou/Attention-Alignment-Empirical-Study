{
 "cells": [
  {
   "cell_type": "code",
   "execution_count": 1,
   "metadata": {},
   "outputs": [
    {
     "name": "stderr",
     "output_type": "stream",
     "text": [
      "/home/bonan/miniconda3/envs/fse2024/lib/python3.8/site-packages/tqdm/auto.py:21: TqdmWarning: IProgress not found. Please update jupyter and ipywidgets. See https://ipywidgets.readthedocs.io/en/stable/user_install.html\n",
      "  from .autonotebook import tqdm as notebook_tqdm\n"
     ]
    }
   ],
   "source": [
    "from utils import *"
   ]
  },
  {
   "cell_type": "code",
   "execution_count": 2,
   "metadata": {},
   "outputs": [],
   "source": [
    "test = perturbationTokenImportance()"
   ]
  },
  {
   "cell_type": "code",
   "execution_count": 7,
   "metadata": {},
   "outputs": [],
   "source": [
    "perturbed_prompts = pickle.load(open(\"perturbed_prompts.pkl\", \"rb\"))"
   ]
  },
  {
   "cell_type": "code",
   "execution_count": null,
   "metadata": {},
   "outputs": [],
   "source": [
    "human_dict = pickle.load(open(\"/home/bonan/fse2024/human_eval/dataset.pkl\", \"rb\"))\n",
    "from tqdm import tqdm\n",
    "for i in tqdm(range(len(human_dict)), desc=\"Processing prompts\"):\n",
    "    prompt = list(human_dict.keys())[i]\n",
    "    if prompt not in [j[\"original_prompt\"] for j in perturbed_prompts]:\n",
    "        if prompt.find(\">>>\") != -1:\n",
    "            perturbed_prompt = test.get_perturbated_prompts(prompt[prompt.find(\"def\"):prompt.find(\">>>\")])\n",
    "        else:\n",
    "            perturbed_prompt = test.get_perturbated_prompts(prompt)\n",
    "        perturbed_prompt[\"original_prompt\"] = prompt\n",
    "        print(len(perturbed_prompts))\n",
    "        print(perturbed_prompt)\n",
    "        perturbed_prompts.append(perturbed_prompt)"
   ]
  },
  {
   "cell_type": "code",
   "execution_count": 10,
   "metadata": {},
   "outputs": [],
   "source": [
    "pickle.dump(perturbed_prompts, open(\"perturbed_prompts.pkl\", \"wb\"))"
   ]
  }
 ],
 "metadata": {
  "kernelspec": {
   "display_name": "fse2024",
   "language": "python",
   "name": "python3"
  },
  "language_info": {
   "codemirror_mode": {
    "name": "ipython",
    "version": 3
   },
   "file_extension": ".py",
   "mimetype": "text/x-python",
   "name": "python",
   "nbconvert_exporter": "python",
   "pygments_lexer": "ipython3",
   "version": "3.8.19"
  }
 },
 "nbformat": 4,
 "nbformat_minor": 2
}
